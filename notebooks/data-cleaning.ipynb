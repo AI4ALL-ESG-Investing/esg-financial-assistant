{
  "cells": [
    {
      "cell_type": "markdown",
      "metadata": {
        "colab_type": "text",
        "id": "view-in-github"
      },
      "source": [
        "<a href=\"https://colab.research.google.com/github/AI4ALL-ESG-Investing/esg-financial-assistant/blob/main/data-cleaning.ipynb\" target=\"_parent\"><img src=\"https://colab.research.google.com/assets/colab-badge.svg\" alt=\"Open In Colab\"/></a>"
      ]
    },
    {
      "cell_type": "markdown",
      "metadata": {
        "id": "iyR1pHfotJFr"
      },
      "source": [
        "# Data Cleaning Notebook"
      ]
    },
    {
      "cell_type": "markdown",
      "metadata": {
        "id": "bnTAYQXn1sKZ"
      },
      "source": [
        "# Import python libraries"
      ]
    },
    {
      "cell_type": "code",
      "execution_count": 1,
      "metadata": {
        "id": "w-p0PPrZ1g9X"
      },
      "outputs": [],
      "source": [
        "import os\n",
        "import pandas as pd\n",
        "import yfinance as yf\n",
        "import logging\n",
        "\n",
        "logging.getLogger(\"yfinance\").setLevel(logging.CRITICAL)\n"
      ]
    },
    {
      "cell_type": "markdown",
      "metadata": {
        "id": "dYN5y9lyp1py"
      },
      "source": [
        "## Load Data into Colab"
      ]
    },
    {
      "cell_type": "code",
      "execution_count": 2,
      "metadata": {
        "colab": {
          "base_uri": "https://localhost:8080/"
        },
        "id": "jhB0MmMNOTBt",
        "outputId": "e931c96f-6893-48e5-abbb-4fe24e7dc35c"
      },
      "outputs": [
        {
          "name": "stdout",
          "output_type": "stream",
          "text": [
            "fatal: destination path 'esg-financial-assistant' already exists and is not an empty directory.\n",
            "/Users/amandadongsmacbookpro/esg-financial-assistant/notebooks/esg-financial-assistant/data\n"
          ]
        },
        {
          "data": {
            "text/plain": [
              "['public-company-esg-ratings-dataset.csv',\n",
              " 'README.md',\n",
              " 'investment_survey.csv']"
            ]
          },
          "execution_count": 2,
          "metadata": {},
          "output_type": "execute_result"
        }
      ],
      "source": [
        "# Clone the GitHub repository\n",
        "!git clone https://github.com/AI4ALL-ESG-Investing/esg-financial-assistant\n",
        "\n",
        "# Change working directory to where the dataset is located\n",
        "%cd esg-financial-assistant/data\n",
        "\n",
        "os.listdir()"
      ]
    },
    {
      "cell_type": "code",
      "execution_count": 3,
      "metadata": {
        "colab": {
          "base_uri": "https://localhost:8080/",
          "height": 516
        },
        "id": "CcQdxoUaszlr",
        "outputId": "b07860bc-9224-45f1-e03c-5d3f0b9f236d"
      },
      "outputs": [
        {
          "data": {
            "text/html": [
              "<div>\n",
              "<style scoped>\n",
              "    .dataframe tbody tr th:only-of-type {\n",
              "        vertical-align: middle;\n",
              "    }\n",
              "\n",
              "    .dataframe tbody tr th {\n",
              "        vertical-align: top;\n",
              "    }\n",
              "\n",
              "    .dataframe thead th {\n",
              "        text-align: right;\n",
              "    }\n",
              "</style>\n",
              "<table border=\"1\" class=\"dataframe\">\n",
              "  <thead>\n",
              "    <tr style=\"text-align: right;\">\n",
              "      <th></th>\n",
              "      <th>ticker</th>\n",
              "      <th>name</th>\n",
              "      <th>currency</th>\n",
              "      <th>exchange</th>\n",
              "      <th>industry</th>\n",
              "      <th>logo</th>\n",
              "      <th>weburl</th>\n",
              "      <th>environment_grade</th>\n",
              "      <th>environment_level</th>\n",
              "      <th>social_grade</th>\n",
              "      <th>...</th>\n",
              "      <th>governance_grade</th>\n",
              "      <th>governance_level</th>\n",
              "      <th>environment_score</th>\n",
              "      <th>social_score</th>\n",
              "      <th>governance_score</th>\n",
              "      <th>total_score</th>\n",
              "      <th>last_processing_date</th>\n",
              "      <th>total_grade</th>\n",
              "      <th>total_level</th>\n",
              "      <th>cik</th>\n",
              "    </tr>\n",
              "  </thead>\n",
              "  <tbody>\n",
              "    <tr>\n",
              "      <th>0</th>\n",
              "      <td>dis</td>\n",
              "      <td>Walt Disney Co</td>\n",
              "      <td>USD</td>\n",
              "      <td>NEW YORK STOCK EXCHANGE, INC.</td>\n",
              "      <td>Media</td>\n",
              "      <td>https://static.finnhub.io/logo/ef50b4a2b263c84...</td>\n",
              "      <td>https://thewaltdisneycompany.com/</td>\n",
              "      <td>A</td>\n",
              "      <td>High</td>\n",
              "      <td>BB</td>\n",
              "      <td>...</td>\n",
              "      <td>BB</td>\n",
              "      <td>Medium</td>\n",
              "      <td>510</td>\n",
              "      <td>316</td>\n",
              "      <td>321</td>\n",
              "      <td>1147</td>\n",
              "      <td>19-04-2022</td>\n",
              "      <td>BBB</td>\n",
              "      <td>High</td>\n",
              "      <td>1744489</td>\n",
              "    </tr>\n",
              "    <tr>\n",
              "      <th>1</th>\n",
              "      <td>gm</td>\n",
              "      <td>General Motors Co</td>\n",
              "      <td>USD</td>\n",
              "      <td>NEW YORK STOCK EXCHANGE, INC.</td>\n",
              "      <td>Automobiles</td>\n",
              "      <td>https://static.finnhub.io/logo/9253db78-80c9-1...</td>\n",
              "      <td>https://www.gm.com/</td>\n",
              "      <td>A</td>\n",
              "      <td>High</td>\n",
              "      <td>BB</td>\n",
              "      <td>...</td>\n",
              "      <td>B</td>\n",
              "      <td>Medium</td>\n",
              "      <td>510</td>\n",
              "      <td>303</td>\n",
              "      <td>255</td>\n",
              "      <td>1068</td>\n",
              "      <td>17-04-2022</td>\n",
              "      <td>BBB</td>\n",
              "      <td>High</td>\n",
              "      <td>1467858</td>\n",
              "    </tr>\n",
              "    <tr>\n",
              "      <th>2</th>\n",
              "      <td>gww</td>\n",
              "      <td>WW Grainger Inc</td>\n",
              "      <td>USD</td>\n",
              "      <td>NEW YORK STOCK EXCHANGE, INC.</td>\n",
              "      <td>Trading Companies and Distributors</td>\n",
              "      <td>https://static.finnhub.io/logo/f153dcda-80eb-1...</td>\n",
              "      <td>https://www.grainger.com/</td>\n",
              "      <td>B</td>\n",
              "      <td>Medium</td>\n",
              "      <td>BB</td>\n",
              "      <td>...</td>\n",
              "      <td>B</td>\n",
              "      <td>Medium</td>\n",
              "      <td>255</td>\n",
              "      <td>385</td>\n",
              "      <td>240</td>\n",
              "      <td>880</td>\n",
              "      <td>19-04-2022</td>\n",
              "      <td>BB</td>\n",
              "      <td>Medium</td>\n",
              "      <td>277135</td>\n",
              "    </tr>\n",
              "    <tr>\n",
              "      <th>3</th>\n",
              "      <td>mhk</td>\n",
              "      <td>Mohawk Industries Inc</td>\n",
              "      <td>USD</td>\n",
              "      <td>NEW YORK STOCK EXCHANGE, INC.</td>\n",
              "      <td>Consumer products</td>\n",
              "      <td>https://static.finnhub.io/logo/26868a62-80ec-1...</td>\n",
              "      <td>https://mohawkind.com/</td>\n",
              "      <td>A</td>\n",
              "      <td>High</td>\n",
              "      <td>B</td>\n",
              "      <td>...</td>\n",
              "      <td>BB</td>\n",
              "      <td>Medium</td>\n",
              "      <td>570</td>\n",
              "      <td>298</td>\n",
              "      <td>303</td>\n",
              "      <td>1171</td>\n",
              "      <td>18-04-2022</td>\n",
              "      <td>BBB</td>\n",
              "      <td>High</td>\n",
              "      <td>851968</td>\n",
              "    </tr>\n",
              "    <tr>\n",
              "      <th>4</th>\n",
              "      <td>lyv</td>\n",
              "      <td>Live Nation Entertainment Inc</td>\n",
              "      <td>USD</td>\n",
              "      <td>NEW YORK STOCK EXCHANGE, INC.</td>\n",
              "      <td>Media</td>\n",
              "      <td>https://static.finnhub.io/logo/1cd144d2-80ec-1...</td>\n",
              "      <td>https://www.livenationentertainment.com/</td>\n",
              "      <td>BBB</td>\n",
              "      <td>High</td>\n",
              "      <td>BB</td>\n",
              "      <td>...</td>\n",
              "      <td>B</td>\n",
              "      <td>Medium</td>\n",
              "      <td>492</td>\n",
              "      <td>310</td>\n",
              "      <td>250</td>\n",
              "      <td>1052</td>\n",
              "      <td>18-04-2022</td>\n",
              "      <td>BBB</td>\n",
              "      <td>High</td>\n",
              "      <td>1335258</td>\n",
              "    </tr>\n",
              "  </tbody>\n",
              "</table>\n",
              "<p>5 rows × 21 columns</p>\n",
              "</div>"
            ],
            "text/plain": [
              "  ticker                           name currency  \\\n",
              "0    dis                 Walt Disney Co      USD   \n",
              "1     gm              General Motors Co      USD   \n",
              "2    gww                WW Grainger Inc      USD   \n",
              "3    mhk          Mohawk Industries Inc      USD   \n",
              "4    lyv  Live Nation Entertainment Inc      USD   \n",
              "\n",
              "                        exchange                            industry  \\\n",
              "0  NEW YORK STOCK EXCHANGE, INC.                               Media   \n",
              "1  NEW YORK STOCK EXCHANGE, INC.                         Automobiles   \n",
              "2  NEW YORK STOCK EXCHANGE, INC.  Trading Companies and Distributors   \n",
              "3  NEW YORK STOCK EXCHANGE, INC.                   Consumer products   \n",
              "4  NEW YORK STOCK EXCHANGE, INC.                               Media   \n",
              "\n",
              "                                                logo  \\\n",
              "0  https://static.finnhub.io/logo/ef50b4a2b263c84...   \n",
              "1  https://static.finnhub.io/logo/9253db78-80c9-1...   \n",
              "2  https://static.finnhub.io/logo/f153dcda-80eb-1...   \n",
              "3  https://static.finnhub.io/logo/26868a62-80ec-1...   \n",
              "4  https://static.finnhub.io/logo/1cd144d2-80ec-1...   \n",
              "\n",
              "                                     weburl environment_grade  \\\n",
              "0         https://thewaltdisneycompany.com/                 A   \n",
              "1                       https://www.gm.com/                 A   \n",
              "2                 https://www.grainger.com/                 B   \n",
              "3                    https://mohawkind.com/                 A   \n",
              "4  https://www.livenationentertainment.com/               BBB   \n",
              "\n",
              "  environment_level social_grade  ... governance_grade governance_level  \\\n",
              "0              High           BB  ...               BB           Medium   \n",
              "1              High           BB  ...                B           Medium   \n",
              "2            Medium           BB  ...                B           Medium   \n",
              "3              High            B  ...               BB           Medium   \n",
              "4              High           BB  ...                B           Medium   \n",
              "\n",
              "  environment_score  social_score  governance_score  total_score  \\\n",
              "0               510           316               321         1147   \n",
              "1               510           303               255         1068   \n",
              "2               255           385               240          880   \n",
              "3               570           298               303         1171   \n",
              "4               492           310               250         1052   \n",
              "\n",
              "   last_processing_date total_grade total_level      cik  \n",
              "0            19-04-2022         BBB        High  1744489  \n",
              "1            17-04-2022         BBB        High  1467858  \n",
              "2            19-04-2022          BB      Medium   277135  \n",
              "3            18-04-2022         BBB        High   851968  \n",
              "4            18-04-2022         BBB        High  1335258  \n",
              "\n",
              "[5 rows x 21 columns]"
            ]
          },
          "execution_count": 3,
          "metadata": {},
          "output_type": "execute_result"
        }
      ],
      "source": [
        "# clean ESG dataset\n",
        "df = pd.read_csv(\"public-company-esg-ratings-dataset.csv\")\n",
        "df.head()"
      ]
    },
    {
      "cell_type": "code",
      "execution_count": 4,
      "metadata": {
        "id": "8RDcj4LXfbzc"
      },
      "outputs": [],
      "source": [
        "df.drop(columns = [\"logo\", \"weburl\", \"environment_grade\", \"environment_level\", \"social_grade\", \"social_level\", \"governance_grade\", \"governance_level\", \"total_grade\", \"total_level\", \"cik\", \"last_processing_date\"], inplace = True)"
      ]
    },
    {
      "cell_type": "code",
      "execution_count": 5,
      "metadata": {
        "colab": {
          "base_uri": "https://localhost:8080/",
          "height": 366
        },
        "id": "0_SLZ6X518Vm",
        "outputId": "39857949-b318-4c5a-83b4-1b7c2915bb54"
      },
      "outputs": [
        {
          "data": {
            "text/plain": [
              "ticker               False\n",
              "name                 False\n",
              "currency             False\n",
              "exchange             False\n",
              "industry              True\n",
              "environment_score    False\n",
              "social_score         False\n",
              "governance_score     False\n",
              "total_score          False\n",
              "dtype: bool"
            ]
          },
          "execution_count": 5,
          "metadata": {},
          "output_type": "execute_result"
        }
      ],
      "source": [
        "df.isna().any()"
      ]
    },
    {
      "cell_type": "code",
      "execution_count": 6,
      "metadata": {
        "id": "2In72n291-bv"
      },
      "outputs": [],
      "source": [
        "row_na = df[df[\"industry\"].isna()]"
      ]
    },
    {
      "cell_type": "code",
      "execution_count": 7,
      "metadata": {
        "colab": {
          "base_uri": "https://localhost:8080/"
        },
        "id": "lyg1C8SV2PwB",
        "outputId": "7318295c-384b-4173-f47e-082e345cc2af"
      },
      "outputs": [
        {
          "name": "stdout",
          "output_type": "stream",
          "text": [
            "15                Armada Acquisition Corp I\n",
            "27            Acri Capital Acquisition Corp\n",
            "32         ACE Convergence Acquisition Corp\n",
            "57                    Edoc Acquisition Corp\n",
            "76                      AF Acquisition Corp\n",
            "97                     AIB Acquisition Corp\n",
            "101        Sports Ventures Acquisition Corp\n",
            "123                Alignment Healthcare LLC\n",
            "630       Health Assurance Acquisition Corp\n",
            "646    Healthcare Services Acquisition Corp\n",
            "669                Artisan Acquisition Corp\n",
            "675                          Powered Brands\n",
            "696                Concord Acquisition Corp\n",
            "Name: name, dtype: object\n"
          ]
        }
      ],
      "source": [
        "print(row_na[\"name\"])"
      ]
    },
    {
      "cell_type": "code",
      "execution_count": 8,
      "metadata": {
        "id": "rnwZOWeN2RgU"
      },
      "outputs": [],
      "source": [
        "industry_map = {\n",
        "    'Armada Acquisition Corp I': 'Financial Services',\n",
        "    'Acri Capital Acquisition Corp': 'Financial Services',\n",
        "    'ACE Convergence Acquisition Corp': 'Technology',\n",
        "    'Edoc Acquisition Corp': 'Healthcare',\n",
        "    'AF Acquisition Corp': 'Financial Services',\n",
        "    'AIB Acquisition Corp': 'Financial Services',\n",
        "    'Sports Ventures Acquisition Corp': 'Media & Entertainment',\n",
        "    'Alignment Healthcare LLC': 'Healthcare',\n",
        "    'Health Assurance Acquisition Corp': 'Healthcare',\n",
        "    'Healthcare Services Acquisition Corp': 'Healthcare',\n",
        "    'Artisan Acquisition Corp': 'Financial Services',\n",
        "    'Powered Brands': 'Consumer Goods',\n",
        "    'Concord Acquisition Corp': 'Financial Services'\n",
        "}\n",
        "df['industry'] = df.apply(\n",
        "    lambda row: industry_map[row['name']] if pd.isna(row['industry']) and row['name'] in industry_map else row['industry'],\n",
        "    axis=1\n",
        ")\n"
      ]
    },
    {
      "cell_type": "code",
      "execution_count": 9,
      "metadata": {
        "colab": {
          "base_uri": "https://localhost:8080/",
          "height": 366
        },
        "id": "ShvLhlqSd2s5",
        "outputId": "6cc21326-08ea-4e7f-c8c1-52dfbda597f7"
      },
      "outputs": [
        {
          "data": {
            "text/plain": [
              "ticker               False\n",
              "name                 False\n",
              "currency             False\n",
              "exchange             False\n",
              "industry             False\n",
              "environment_score    False\n",
              "social_score         False\n",
              "governance_score     False\n",
              "total_score          False\n",
              "dtype: bool"
            ]
          },
          "execution_count": 9,
          "metadata": {},
          "output_type": "execute_result"
        }
      ],
      "source": [
        "df.isna().any()\n",
        "# ESG Dataset cleaned"
      ]
    },
    {
      "cell_type": "code",
      "execution_count": 10,
      "metadata": {
        "colab": {
          "base_uri": "https://localhost:8080/"
        },
        "id": "5kek9aqfgjPr",
        "outputId": "0a50ebc6-bdd5-4324-e2e1-64b62a17ef59"
      },
      "outputs": [
        {
          "name": "stdout",
          "output_type": "stream",
          "text": [
            "  ticker                           name currency  \\\n",
            "0    dis                 Walt Disney Co      USD   \n",
            "1     gm              General Motors Co      USD   \n",
            "2    gww                WW Grainger Inc      USD   \n",
            "3    mhk          Mohawk Industries Inc      USD   \n",
            "4    lyv  Live Nation Entertainment Inc      USD   \n",
            "\n",
            "                        exchange                            industry  \\\n",
            "0  NEW YORK STOCK EXCHANGE, INC.                               Media   \n",
            "1  NEW YORK STOCK EXCHANGE, INC.                         Automobiles   \n",
            "2  NEW YORK STOCK EXCHANGE, INC.  Trading Companies and Distributors   \n",
            "3  NEW YORK STOCK EXCHANGE, INC.                   Consumer products   \n",
            "4  NEW YORK STOCK EXCHANGE, INC.                               Media   \n",
            "\n",
            "   environment_score  social_score  governance_score  total_score  \\\n",
            "0                510           316               321         1147   \n",
            "1                510           303               255         1068   \n",
            "2                255           385               240          880   \n",
            "3                570           298               303         1171   \n",
            "4                492           310               250         1052   \n",
            "\n",
            "   Latest_Price  \n",
            "0    117.940002  \n",
            "1     48.650002  \n",
            "2   1064.229980  \n",
            "3    101.430000  \n",
            "4    138.169998  \n"
          ]
        }
      ],
      "source": [
        "tickers = df[\"ticker\"].unique()  # Avoid redundant API calls for repeated tickers\n",
        "\n",
        "latest_prices = {}\n",
        "\n",
        "for ticker in tickers:\n",
        "    try:\n",
        "        stock = yf.Ticker(ticker)\n",
        "        hist = stock.history(period=\"1d\")\n",
        "\n",
        "        if not hist.empty:\n",
        "            # Price data found\n",
        "            latest_prices[ticker] = hist[\"Close\"].iloc[-1]\n",
        "        else:\n",
        "            # No price data found\n",
        "            latest_prices[ticker] = None # Set to null\n",
        "\n",
        "    except Exception:\n",
        "        # An exception \n",
        "        latest_prices[ticker] = None # Set to null \n",
        "\n",
        "\n",
        "latest_price_df = pd.DataFrame(list(latest_prices.items()), columns=[\"ticker\", \"Latest_Price\"])\n",
        "\n",
        "stock_merged = pd.merge(df, latest_price_df, on=\"ticker\", how=\"inner\")\n",
        "\n",
        "print(stock_merged.head())"
      ]
    },
    {
      "cell_type": "code",
      "execution_count": 15,
      "metadata": {},
      "outputs": [
        {
          "name": "stdout",
          "output_type": "stream",
          "text": [
            "   ticker                           name currency  \\\n",
            "0     dis                 Walt Disney Co      USD   \n",
            "1      gm              General Motors Co      USD   \n",
            "2     gww                WW Grainger Inc      USD   \n",
            "3     mhk          Mohawk Industries Inc      USD   \n",
            "4     lyv  Live Nation Entertainment Inc      USD   \n",
            "5     lvs           Las Vegas Sands Corp      USD   \n",
            "6     clx                      Clorox Co      USD   \n",
            "7    aacg          ATA Creativity Global      CNY   \n",
            "8     aal    American Airlines Group Inc      USD   \n",
            "9    aame         Atlantic American Corp      USD   \n",
            "10   aaoi    Applied Optoelectronics Inc      USD   \n",
            "11   aaon                       Aaon Inc      USD   \n",
            "12   aapl                      Apple Inc      USD   \n",
            "13   aatc    Autoscope Technologies Corp      USD   \n",
            "17   abeo        Abeona Therapeutics Inc      USD   \n",
            "18   abnb                     Airbnb Inc      USD   \n",
            "21   abos     Acumen Pharmaceuticals Inc      USD   \n",
            "22   absi                     Absci Corp      USD   \n",
            "24   abus         Arbutus Biopharma Corp      USD   \n",
            "25   abvc             ABVC Biopharma Inc      USD   \n",
            "\n",
            "                         exchange                            industry  \\\n",
            "0   NEW YORK STOCK EXCHANGE, INC.                               Media   \n",
            "1   NEW YORK STOCK EXCHANGE, INC.                         Automobiles   \n",
            "2   NEW YORK STOCK EXCHANGE, INC.  Trading Companies and Distributors   \n",
            "3   NEW YORK STOCK EXCHANGE, INC.                   Consumer products   \n",
            "4   NEW YORK STOCK EXCHANGE, INC.                               Media   \n",
            "5   NEW YORK STOCK EXCHANGE, INC.      Hotels Restaurants and Leisure   \n",
            "6   NEW YORK STOCK EXCHANGE, INC.                   Consumer products   \n",
            "7      NASDAQ NMS - GLOBAL MARKET       Diversified Consumer Services   \n",
            "8      NASDAQ NMS - GLOBAL MARKET                            Airlines   \n",
            "9      NASDAQ NMS - GLOBAL MARKET                           Insurance   \n",
            "10     NASDAQ NMS - GLOBAL MARKET                      Communications   \n",
            "11     NASDAQ NMS - GLOBAL MARKET                            Building   \n",
            "12     NASDAQ NMS - GLOBAL MARKET                          Technology   \n",
            "13     NASDAQ NMS - GLOBAL MARKET                Electrical Equipment   \n",
            "17     NASDAQ NMS - GLOBAL MARKET                       Biotechnology   \n",
            "18     NASDAQ NMS - GLOBAL MARKET      Hotels Restaurants and Leisure   \n",
            "21     NASDAQ NMS - GLOBAL MARKET                       Biotechnology   \n",
            "22     NASDAQ NMS - GLOBAL MARKET    Life Sciences Tools and Services   \n",
            "24     NASDAQ NMS - GLOBAL MARKET                       Biotechnology   \n",
            "25     NASDAQ NMS - GLOBAL MARKET                       Biotechnology   \n",
            "\n",
            "    environment_score  social_score  governance_score  total_score  \\\n",
            "0                 510           316               321         1147   \n",
            "1                 510           303               255         1068   \n",
            "2                 255           385               240          880   \n",
            "3                 570           298               303         1171   \n",
            "4                 492           310               250         1052   \n",
            "5                 547           318               313         1178   \n",
            "6                 560           350               345         1255   \n",
            "7                 203           200               205          608   \n",
            "8                 270           211               265          746   \n",
            "9                 220           221               300          741   \n",
            "10                311           256               218          785   \n",
            "11                500           300               223         1023   \n",
            "12                355           281               255          891   \n",
            "13                410           286               240          936   \n",
            "17                205           306               310          821   \n",
            "18                505           570               400         1475   \n",
            "21                205           201               200          606   \n",
            "22                205           224               230          659   \n",
            "24                203           204               338          745   \n",
            "25                220           212               205          637   \n",
            "\n",
            "    Latest_Price  \n",
            "0     119.519997  \n",
            "1      49.869999  \n",
            "2    1078.630005  \n",
            "3     104.709999  \n",
            "4     143.589996  \n",
            "5      41.840000  \n",
            "6     126.260002  \n",
            "7       0.850000  \n",
            "8      11.060000  \n",
            "9       1.810000  \n",
            "10     16.320000  \n",
            "11     75.849998  \n",
            "12    198.779999  \n",
            "13      7.440000  \n",
            "17      6.220000  \n",
            "18    138.059998  \n",
            "21      1.140000  \n",
            "22      3.010000  \n",
            "24      3.500000  \n",
            "25      1.670000  \n"
          ]
        }
      ],
      "source": [
        "stock_merged.dropna(subset=['Latest_Price'], inplace = True)\n",
        "print(stock_merged.head(20))"
      ]
    },
    {
      "cell_type": "code",
      "execution_count": null,
      "metadata": {},
      "outputs": [
        {
          "data": {
            "text/plain": [
              "ticker               False\n",
              "name                 False\n",
              "currency             False\n",
              "exchange             False\n",
              "industry             False\n",
              "environment_score    False\n",
              "social_score         False\n",
              "governance_score     False\n",
              "total_score          False\n",
              "Latest_Price         False\n",
              "dtype: bool"
            ]
          },
          "execution_count": 16,
          "metadata": {},
          "output_type": "execute_result"
        }
      ],
      "source": [
        "# stock_merged.isna().any()"
      ]
    }
  ],
  "metadata": {
    "colab": {
      "include_colab_link": true,
      "provenance": []
    },
    "kernelspec": {
      "display_name": "base",
      "language": "python",
      "name": "python3"
    },
    "language_info": {
      "codemirror_mode": {
        "name": "ipython",
        "version": 3
      },
      "file_extension": ".py",
      "mimetype": "text/x-python",
      "name": "python",
      "nbconvert_exporter": "python",
      "pygments_lexer": "ipython3",
      "version": "3.12.7"
    }
  },
  "nbformat": 4,
  "nbformat_minor": 0
}
