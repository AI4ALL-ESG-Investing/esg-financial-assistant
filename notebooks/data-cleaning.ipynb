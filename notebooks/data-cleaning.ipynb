{
  "cells": [
    {
      "cell_type": "markdown",
      "metadata": {
        "colab_type": "text",
        "id": "view-in-github"
      },
      "source": [
        "<a href=\"https://colab.research.google.com/github/AI4ALL-ESG-Investing/esg-financial-assistant/blob/main/data-cleaning.ipynb\" target=\"_parent\"><img src=\"https://colab.research.google.com/assets/colab-badge.svg\" alt=\"Open In Colab\"/></a>"
      ]
    },
    {
      "cell_type": "markdown",
      "metadata": {
        "id": "iyR1pHfotJFr"
      },
      "source": [
        "# Data Cleaning Notebook"
      ]
    },
    {
      "cell_type": "markdown",
      "metadata": {
        "id": "bnTAYQXn1sKZ"
      },
      "source": [
        "# Import python libraries"
      ]
    },
    {
      "cell_type": "code",
      "execution_count": 2,
      "metadata": {
        "id": "w-p0PPrZ1g9X"
      },
      "outputs": [],
      "source": [
        "import os\n",
        "import pandas as pd\n",
        "import yfinance as yf\n",
        "import logging\n",
        "\n",
        "logging.getLogger(\"yfinance\").setLevel(logging.CRITICAL)\n"
      ]
    },
    {
      "cell_type": "markdown",
      "metadata": {
        "id": "dYN5y9lyp1py"
      },
      "source": [
        "## Load Data into Colab"
      ]
    },
    {
      "cell_type": "code",
      "execution_count": 3,
      "metadata": {
        "colab": {
          "base_uri": "https://localhost:8080/"
        },
        "id": "jhB0MmMNOTBt",
        "outputId": "e931c96f-6893-48e5-abbb-4fe24e7dc35c"
      },
      "outputs": [
        {
          "name": "stdout",
          "output_type": "stream",
          "text": [
            "fatal: destination path 'esg-financial-assistant' already exists and is not an empty directory.\n",
            "/Users/amandadongsmacbookpro/esg-financial-assistant/notebooks/esg-financial-assistant/data\n"
          ]
        },
        {
          "data": {
            "text/plain": [
              "['public-company-esg-ratings-dataset.csv',\n",
              " 'README.md',\n",
              " 'investment_survey.csv']"
            ]
          },
          "execution_count": 3,
          "metadata": {},
          "output_type": "execute_result"
        }
      ],
      "source": [
        "# Clone the GitHub repository\n",
        "!git clone https://github.com/AI4ALL-ESG-Investing/esg-financial-assistant\n",
        "\n",
        "# Change working directory to where the dataset is located\n",
        "%cd esg-financial-assistant/data\n",
        "\n",
        "os.listdir()"
      ]
    },
    {
      "cell_type": "code",
      "execution_count": 4,
      "metadata": {
        "colab": {
          "base_uri": "https://localhost:8080/",
          "height": 516
        },
        "id": "CcQdxoUaszlr",
        "outputId": "b07860bc-9224-45f1-e03c-5d3f0b9f236d"
      },
      "outputs": [
        {
          "data": {
            "text/html": [
              "<div>\n",
              "<style scoped>\n",
              "    .dataframe tbody tr th:only-of-type {\n",
              "        vertical-align: middle;\n",
              "    }\n",
              "\n",
              "    .dataframe tbody tr th {\n",
              "        vertical-align: top;\n",
              "    }\n",
              "\n",
              "    .dataframe thead th {\n",
              "        text-align: right;\n",
              "    }\n",
              "</style>\n",
              "<table border=\"1\" class=\"dataframe\">\n",
              "  <thead>\n",
              "    <tr style=\"text-align: right;\">\n",
              "      <th></th>\n",
              "      <th>ticker</th>\n",
              "      <th>name</th>\n",
              "      <th>currency</th>\n",
              "      <th>exchange</th>\n",
              "      <th>industry</th>\n",
              "      <th>logo</th>\n",
              "      <th>weburl</th>\n",
              "      <th>environment_grade</th>\n",
              "      <th>environment_level</th>\n",
              "      <th>social_grade</th>\n",
              "      <th>...</th>\n",
              "      <th>governance_grade</th>\n",
              "      <th>governance_level</th>\n",
              "      <th>environment_score</th>\n",
              "      <th>social_score</th>\n",
              "      <th>governance_score</th>\n",
              "      <th>total_score</th>\n",
              "      <th>last_processing_date</th>\n",
              "      <th>total_grade</th>\n",
              "      <th>total_level</th>\n",
              "      <th>cik</th>\n",
              "    </tr>\n",
              "  </thead>\n",
              "  <tbody>\n",
              "    <tr>\n",
              "      <th>0</th>\n",
              "      <td>dis</td>\n",
              "      <td>Walt Disney Co</td>\n",
              "      <td>USD</td>\n",
              "      <td>NEW YORK STOCK EXCHANGE, INC.</td>\n",
              "      <td>Media</td>\n",
              "      <td>https://static.finnhub.io/logo/ef50b4a2b263c84...</td>\n",
              "      <td>https://thewaltdisneycompany.com/</td>\n",
              "      <td>A</td>\n",
              "      <td>High</td>\n",
              "      <td>BB</td>\n",
              "      <td>...</td>\n",
              "      <td>BB</td>\n",
              "      <td>Medium</td>\n",
              "      <td>510</td>\n",
              "      <td>316</td>\n",
              "      <td>321</td>\n",
              "      <td>1147</td>\n",
              "      <td>19-04-2022</td>\n",
              "      <td>BBB</td>\n",
              "      <td>High</td>\n",
              "      <td>1744489</td>\n",
              "    </tr>\n",
              "    <tr>\n",
              "      <th>1</th>\n",
              "      <td>gm</td>\n",
              "      <td>General Motors Co</td>\n",
              "      <td>USD</td>\n",
              "      <td>NEW YORK STOCK EXCHANGE, INC.</td>\n",
              "      <td>Automobiles</td>\n",
              "      <td>https://static.finnhub.io/logo/9253db78-80c9-1...</td>\n",
              "      <td>https://www.gm.com/</td>\n",
              "      <td>A</td>\n",
              "      <td>High</td>\n",
              "      <td>BB</td>\n",
              "      <td>...</td>\n",
              "      <td>B</td>\n",
              "      <td>Medium</td>\n",
              "      <td>510</td>\n",
              "      <td>303</td>\n",
              "      <td>255</td>\n",
              "      <td>1068</td>\n",
              "      <td>17-04-2022</td>\n",
              "      <td>BBB</td>\n",
              "      <td>High</td>\n",
              "      <td>1467858</td>\n",
              "    </tr>\n",
              "    <tr>\n",
              "      <th>2</th>\n",
              "      <td>gww</td>\n",
              "      <td>WW Grainger Inc</td>\n",
              "      <td>USD</td>\n",
              "      <td>NEW YORK STOCK EXCHANGE, INC.</td>\n",
              "      <td>Trading Companies and Distributors</td>\n",
              "      <td>https://static.finnhub.io/logo/f153dcda-80eb-1...</td>\n",
              "      <td>https://www.grainger.com/</td>\n",
              "      <td>B</td>\n",
              "      <td>Medium</td>\n",
              "      <td>BB</td>\n",
              "      <td>...</td>\n",
              "      <td>B</td>\n",
              "      <td>Medium</td>\n",
              "      <td>255</td>\n",
              "      <td>385</td>\n",
              "      <td>240</td>\n",
              "      <td>880</td>\n",
              "      <td>19-04-2022</td>\n",
              "      <td>BB</td>\n",
              "      <td>Medium</td>\n",
              "      <td>277135</td>\n",
              "    </tr>\n",
              "    <tr>\n",
              "      <th>3</th>\n",
              "      <td>mhk</td>\n",
              "      <td>Mohawk Industries Inc</td>\n",
              "      <td>USD</td>\n",
              "      <td>NEW YORK STOCK EXCHANGE, INC.</td>\n",
              "      <td>Consumer products</td>\n",
              "      <td>https://static.finnhub.io/logo/26868a62-80ec-1...</td>\n",
              "      <td>https://mohawkind.com/</td>\n",
              "      <td>A</td>\n",
              "      <td>High</td>\n",
              "      <td>B</td>\n",
              "      <td>...</td>\n",
              "      <td>BB</td>\n",
              "      <td>Medium</td>\n",
              "      <td>570</td>\n",
              "      <td>298</td>\n",
              "      <td>303</td>\n",
              "      <td>1171</td>\n",
              "      <td>18-04-2022</td>\n",
              "      <td>BBB</td>\n",
              "      <td>High</td>\n",
              "      <td>851968</td>\n",
              "    </tr>\n",
              "    <tr>\n",
              "      <th>4</th>\n",
              "      <td>lyv</td>\n",
              "      <td>Live Nation Entertainment Inc</td>\n",
              "      <td>USD</td>\n",
              "      <td>NEW YORK STOCK EXCHANGE, INC.</td>\n",
              "      <td>Media</td>\n",
              "      <td>https://static.finnhub.io/logo/1cd144d2-80ec-1...</td>\n",
              "      <td>https://www.livenationentertainment.com/</td>\n",
              "      <td>BBB</td>\n",
              "      <td>High</td>\n",
              "      <td>BB</td>\n",
              "      <td>...</td>\n",
              "      <td>B</td>\n",
              "      <td>Medium</td>\n",
              "      <td>492</td>\n",
              "      <td>310</td>\n",
              "      <td>250</td>\n",
              "      <td>1052</td>\n",
              "      <td>18-04-2022</td>\n",
              "      <td>BBB</td>\n",
              "      <td>High</td>\n",
              "      <td>1335258</td>\n",
              "    </tr>\n",
              "  </tbody>\n",
              "</table>\n",
              "<p>5 rows × 21 columns</p>\n",
              "</div>"
            ],
            "text/plain": [
              "  ticker                           name currency  \\\n",
              "0    dis                 Walt Disney Co      USD   \n",
              "1     gm              General Motors Co      USD   \n",
              "2    gww                WW Grainger Inc      USD   \n",
              "3    mhk          Mohawk Industries Inc      USD   \n",
              "4    lyv  Live Nation Entertainment Inc      USD   \n",
              "\n",
              "                        exchange                            industry  \\\n",
              "0  NEW YORK STOCK EXCHANGE, INC.                               Media   \n",
              "1  NEW YORK STOCK EXCHANGE, INC.                         Automobiles   \n",
              "2  NEW YORK STOCK EXCHANGE, INC.  Trading Companies and Distributors   \n",
              "3  NEW YORK STOCK EXCHANGE, INC.                   Consumer products   \n",
              "4  NEW YORK STOCK EXCHANGE, INC.                               Media   \n",
              "\n",
              "                                                logo  \\\n",
              "0  https://static.finnhub.io/logo/ef50b4a2b263c84...   \n",
              "1  https://static.finnhub.io/logo/9253db78-80c9-1...   \n",
              "2  https://static.finnhub.io/logo/f153dcda-80eb-1...   \n",
              "3  https://static.finnhub.io/logo/26868a62-80ec-1...   \n",
              "4  https://static.finnhub.io/logo/1cd144d2-80ec-1...   \n",
              "\n",
              "                                     weburl environment_grade  \\\n",
              "0         https://thewaltdisneycompany.com/                 A   \n",
              "1                       https://www.gm.com/                 A   \n",
              "2                 https://www.grainger.com/                 B   \n",
              "3                    https://mohawkind.com/                 A   \n",
              "4  https://www.livenationentertainment.com/               BBB   \n",
              "\n",
              "  environment_level social_grade  ... governance_grade governance_level  \\\n",
              "0              High           BB  ...               BB           Medium   \n",
              "1              High           BB  ...                B           Medium   \n",
              "2            Medium           BB  ...                B           Medium   \n",
              "3              High            B  ...               BB           Medium   \n",
              "4              High           BB  ...                B           Medium   \n",
              "\n",
              "  environment_score  social_score  governance_score  total_score  \\\n",
              "0               510           316               321         1147   \n",
              "1               510           303               255         1068   \n",
              "2               255           385               240          880   \n",
              "3               570           298               303         1171   \n",
              "4               492           310               250         1052   \n",
              "\n",
              "   last_processing_date total_grade total_level      cik  \n",
              "0            19-04-2022         BBB        High  1744489  \n",
              "1            17-04-2022         BBB        High  1467858  \n",
              "2            19-04-2022          BB      Medium   277135  \n",
              "3            18-04-2022         BBB        High   851968  \n",
              "4            18-04-2022         BBB        High  1335258  \n",
              "\n",
              "[5 rows x 21 columns]"
            ]
          },
          "execution_count": 4,
          "metadata": {},
          "output_type": "execute_result"
        }
      ],
      "source": [
        "# clean ESG dataset\n",
        "df = pd.read_csv(\"public-company-esg-ratings-dataset.csv\")\n",
        "df.head()"
      ]
    },
    {
      "cell_type": "code",
      "execution_count": 5,
      "metadata": {
        "id": "8RDcj4LXfbzc"
      },
      "outputs": [],
      "source": [
        "df.drop(columns = [\"logo\", \"weburl\", \"environment_grade\", \"environment_level\", \"social_grade\", \"social_level\", \"governance_grade\", \"governance_level\", \"total_grade\", \"total_level\", \"cik\", \"last_processing_date\"], inplace = True)"
      ]
    },
    {
      "cell_type": "code",
      "execution_count": 6,
      "metadata": {
        "colab": {
          "base_uri": "https://localhost:8080/",
          "height": 366
        },
        "id": "0_SLZ6X518Vm",
        "outputId": "39857949-b318-4c5a-83b4-1b7c2915bb54"
      },
      "outputs": [
        {
          "data": {
            "text/plain": [
              "ticker               False\n",
              "name                 False\n",
              "currency             False\n",
              "exchange             False\n",
              "industry              True\n",
              "environment_score    False\n",
              "social_score         False\n",
              "governance_score     False\n",
              "total_score          False\n",
              "dtype: bool"
            ]
          },
          "execution_count": 6,
          "metadata": {},
          "output_type": "execute_result"
        }
      ],
      "source": [
        "df.isna().any()"
      ]
    },
    {
      "cell_type": "code",
      "execution_count": 7,
      "metadata": {
        "id": "2In72n291-bv"
      },
      "outputs": [],
      "source": [
        "row_na = df[df[\"industry\"].isna()]"
      ]
    },
    {
      "cell_type": "code",
      "execution_count": 8,
      "metadata": {
        "colab": {
          "base_uri": "https://localhost:8080/"
        },
        "id": "lyg1C8SV2PwB",
        "outputId": "7318295c-384b-4173-f47e-082e345cc2af"
      },
      "outputs": [
        {
          "name": "stdout",
          "output_type": "stream",
          "text": [
            "15                Armada Acquisition Corp I\n",
            "27            Acri Capital Acquisition Corp\n",
            "32         ACE Convergence Acquisition Corp\n",
            "57                    Edoc Acquisition Corp\n",
            "76                      AF Acquisition Corp\n",
            "97                     AIB Acquisition Corp\n",
            "101        Sports Ventures Acquisition Corp\n",
            "123                Alignment Healthcare LLC\n",
            "630       Health Assurance Acquisition Corp\n",
            "646    Healthcare Services Acquisition Corp\n",
            "669                Artisan Acquisition Corp\n",
            "675                          Powered Brands\n",
            "696                Concord Acquisition Corp\n",
            "Name: name, dtype: object\n"
          ]
        }
      ],
      "source": [
        "print(row_na[\"name\"])"
      ]
    },
    {
      "cell_type": "code",
      "execution_count": 9,
      "metadata": {
        "id": "rnwZOWeN2RgU"
      },
      "outputs": [],
      "source": [
        "industry_map = {\n",
        "    'Armada Acquisition Corp I': 'Financial Services',\n",
        "    'Acri Capital Acquisition Corp': 'Financial Services',\n",
        "    'ACE Convergence Acquisition Corp': 'Technology',\n",
        "    'Edoc Acquisition Corp': 'Healthcare',\n",
        "    'AF Acquisition Corp': 'Financial Services',\n",
        "    'AIB Acquisition Corp': 'Financial Services',\n",
        "    'Sports Ventures Acquisition Corp': 'Media & Entertainment',\n",
        "    'Alignment Healthcare LLC': 'Healthcare',\n",
        "    'Health Assurance Acquisition Corp': 'Healthcare',\n",
        "    'Healthcare Services Acquisition Corp': 'Healthcare',\n",
        "    'Artisan Acquisition Corp': 'Financial Services',\n",
        "    'Powered Brands': 'Consumer Goods',\n",
        "    'Concord Acquisition Corp': 'Financial Services'\n",
        "}\n",
        "df['industry'] = df.apply(\n",
        "    lambda row: industry_map[row['name']] if pd.isna(row['industry']) and row['name'] in industry_map else row['industry'],\n",
        "    axis=1\n",
        ")\n"
      ]
    },
    {
      "cell_type": "code",
      "execution_count": 10,
      "metadata": {
        "colab": {
          "base_uri": "https://localhost:8080/",
          "height": 366
        },
        "id": "ShvLhlqSd2s5",
        "outputId": "6cc21326-08ea-4e7f-c8c1-52dfbda597f7"
      },
      "outputs": [
        {
          "data": {
            "text/plain": [
              "ticker               False\n",
              "name                 False\n",
              "currency             False\n",
              "exchange             False\n",
              "industry             False\n",
              "environment_score    False\n",
              "social_score         False\n",
              "governance_score     False\n",
              "total_score          False\n",
              "dtype: bool"
            ]
          },
          "execution_count": 10,
          "metadata": {},
          "output_type": "execute_result"
        }
      ],
      "source": [
        "df.isna().any()\n",
        "# ESG Dataset cleaned"
      ]
    },
    {
      "cell_type": "code",
      "execution_count": 11,
      "metadata": {
        "colab": {
          "base_uri": "https://localhost:8080/"
        },
        "id": "5kek9aqfgjPr",
        "outputId": "0a50ebc6-bdd5-4324-e2e1-64b62a17ef59"
      },
      "outputs": [
        {
          "name": "stderr",
          "output_type": "stream",
          "text": [
            "/var/folders/0m/frmvql3x50bckqpz6zv0t7800000gp/T/ipykernel_12902/2848369013.py:7: FutureWarning: YF.download() has changed argument auto_adjust default to True\n",
            "  hist = yf.download(tickers, period=\"1d\", group_by='ticker', progress=False)\n"
          ]
        },
        {
          "name": "stdout",
          "output_type": "stream",
          "text": [
            "  ticker                           name currency  \\\n",
            "0    dis                 Walt Disney Co      USD   \n",
            "1     gm              General Motors Co      USD   \n",
            "2    gww                WW Grainger Inc      USD   \n",
            "3    mhk          Mohawk Industries Inc      USD   \n",
            "4    lyv  Live Nation Entertainment Inc      USD   \n",
            "\n",
            "                        exchange                            industry  \\\n",
            "0  NEW YORK STOCK EXCHANGE, INC.                               Media   \n",
            "1  NEW YORK STOCK EXCHANGE, INC.                         Automobiles   \n",
            "2  NEW YORK STOCK EXCHANGE, INC.  Trading Companies and Distributors   \n",
            "3  NEW YORK STOCK EXCHANGE, INC.                   Consumer products   \n",
            "4  NEW YORK STOCK EXCHANGE, INC.                               Media   \n",
            "\n",
            "   environment_score  social_score  governance_score  total_score  \\\n",
            "0                510           316               321         1147   \n",
            "1                510           303               255         1068   \n",
            "2                255           385               240          880   \n",
            "3                570           298               303         1171   \n",
            "4                492           310               250         1052   \n",
            "\n",
            "  Latest_Price   Beta  \n",
            "0         None  1.552  \n",
            "1         None  1.344  \n",
            "2         None  1.212  \n",
            "3         None    NaN  \n",
            "4         None  1.450  \n"
          ]
        }
      ],
      "source": [
        "import yfinance as yf\n",
        "import pandas as pd\n",
        "\n",
        "tickers = df[\"ticker\"].unique().tolist()\n",
        "\n",
        "# 批量下载最新价格（1天）\n",
        "hist = yf.download(tickers, period=\"1d\", group_by='ticker', progress=False)\n",
        "\n",
        "latest_prices = {}\n",
        "for ticker in tickers:\n",
        "    try:\n",
        "        # 这里不同ticker格式可能不同，单ticker会返回DataFrame，多ticker是多层索引\n",
        "        if len(tickers) == 1:\n",
        "            close_price = hist[\"Close\"].iloc[-1]\n",
        "        else:\n",
        "            close_price = hist[ticker][\"Close\"].iloc[-1]\n",
        "        latest_prices[ticker] = close_price\n",
        "    except Exception:\n",
        "        latest_prices[ticker] = None\n",
        "\n",
        "# 请求beta仍要单独请求info，建议用简单的串行或并行\n",
        "betas = {}\n",
        "for ticker in tickers:\n",
        "    try:\n",
        "        info = yf.Ticker(ticker).info\n",
        "        betas[ticker] = info.get(\"beta\", None)\n",
        "    except Exception:\n",
        "        betas[ticker] = None\n",
        "\n",
        "# 转DataFrame\n",
        "price_beta_df = pd.DataFrame({\n",
        "    \"ticker\": tickers,\n",
        "    \"Latest_Price\": [latest_prices.get(t, None) for t in tickers],\n",
        "    \"Beta\": [betas.get(t, None) for t in tickers]\n",
        "})\n",
        "\n",
        "stock_merged = pd.merge(df, price_beta_df, on=\"ticker\", how=\"inner\")\n",
        "print(stock_merged.head())\n"
      ]
    },
    {
      "cell_type": "code",
      "execution_count": 12,
      "metadata": {},
      "outputs": [
        {
          "name": "stdout",
          "output_type": "stream",
          "text": [
            "Empty DataFrame\n",
            "Columns: [ticker, name, currency, exchange, industry, environment_score, social_score, governance_score, total_score, Latest_Price, Beta]\n",
            "Index: []\n"
          ]
        }
      ],
      "source": [
        "stock_merged.dropna(subset=['Latest_Price'], inplace = True)\n",
        "print(stock_merged.head(20))"
      ]
    },
    {
      "cell_type": "code",
      "execution_count": 13,
      "metadata": {},
      "outputs": [],
      "source": [
        "# stock_merged.isna().any()"
      ]
    }
  ],
  "metadata": {
    "colab": {
      "include_colab_link": true,
      "provenance": []
    },
    "kernelspec": {
      "display_name": "base",
      "language": "python",
      "name": "python3"
    },
    "language_info": {
      "codemirror_mode": {
        "name": "ipython",
        "version": 3
      },
      "file_extension": ".py",
      "mimetype": "text/x-python",
      "name": "python",
      "nbconvert_exporter": "python",
      "pygments_lexer": "ipython3",
      "version": "3.12.7"
    }
  },
  "nbformat": 4,
  "nbformat_minor": 0
}
